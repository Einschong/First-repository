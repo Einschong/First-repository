{
  "nbformat": 4,
  "nbformat_minor": 0,
  "metadata": {
    "colab": {
      "provenance": []
    },
    "kernelspec": {
      "name": "python3",
      "display_name": "Python 3"
    },
    "language_info": {
      "name": "python"
    }
  },
  "cells": [
    {
      "cell_type": "code",
      "execution_count": 1,
      "metadata": {
        "colab": {
          "base_uri": "https://localhost:8080/"
        },
        "id": "VrmoUJp534VU",
        "outputId": "9c029d5d-9577-451c-95d3-eb5e8b441553"
      },
      "outputs": [
        {
          "output_type": "stream",
          "name": "stdout",
          "text": [
            "The age of the universe is approximately 13977715372.77 billion years.\n"
          ]
        }
      ],
      "source": [
        "# Hubble constant in km/s/Mpc\n",
        "H0 = 70\n",
        "# Convert Mpc to km\n",
        "Mpc_to_km = 3.086e+19\n",
        "# Calculate the Hubble time in seconds\n",
        "Hubble_time_seconds = 1 / (H0 / Mpc_to_km)\n",
        "# Convert seconds to years\n",
        "seconds_to_years = 3.154e+7\n",
        "# Calculate the age of the universe in years\n",
        "age_of_universe_years = Hubble_time_seconds / seconds_to_years\n",
        "print(f\"The age of the universe is approximately {age_of_universe_years:.2f} billion years.\")"
      ]
    }
  ]
}
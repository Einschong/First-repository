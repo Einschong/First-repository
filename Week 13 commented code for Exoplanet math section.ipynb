{
  "nbformat": 4,
  "nbformat_minor": 0,
  "metadata": {
    "colab": {
      "provenance": [],
      "authorship_tag": "ABX9TyMR2B5AO7DmoAh4ag54B552",
      "include_colab_link": true
    },
    "kernelspec": {
      "name": "python3",
      "display_name": "Python 3"
    },
    "language_info": {
      "name": "python"
    }
  },
  "cells": [
    {
      "cell_type": "markdown",
      "metadata": {
        "id": "view-in-github",
        "colab_type": "text"
      },
      "source": [
        "<a href=\"https://colab.research.google.com/github/Einschong/First-repository/blob/main/Week%2013%20commented%20code%20for%20Exoplanet%20math%20section.ipynb\" target=\"_parent\"><img src=\"https://colab.research.google.com/assets/colab-badge.svg\" alt=\"Open In Colab\"/></a>"
      ]
    },
    {
      "cell_type": "code",
      "execution_count": 6,
      "metadata": {
        "colab": {
          "base_uri": "https://localhost:8080/"
        },
        "id": "DrcccY3pvyUX",
        "outputId": "6f7ba2cc-5ad9-482f-8d19-0efea5e6b8c3"
      },
      "outputs": [
        {
          "output_type": "execute_result",
          "data": {
            "text/plain": [
              "(<Quantity 0.089466 m / s>, <Quantity 12.4683862 m / s>)"
            ]
          },
          "metadata": {},
          "execution_count": 6
        }
      ],
      "source": [
        "import astropy.units as u # import astropy.units as u for units\n",
        "import astropy.constants as ac # import astropy.constants as ac for constants\n",
        "\n",
        "def radial_velocity_amplitude(m_planet, a_orbit, m_star=1*u.M_sun):\n",
        "    \"\"\"\n",
        "    Calculate the radial velocity semi-amplitude K for a planet orbiting a star.\n",
        "\n",
        "    Parameters:\n",
        "    - m_planet: Mass of the planet in Jupiter masses.\n",
        "    - a_orbit: Semi-major axis of the orbit in astronomical units.\n",
        "    - m_star: Mass of the star in solar masses (default is 1 solar mass).\n",
        "\n",
        "    Returns:\n",
        "    - K: Radial velocity semi-amplitude in m/s.\n",
        "    \"\"\"\n",
        "    G = ac.G # Gravitational constant\n",
        "    m_planet = m_planet * ac.M_jup  # Convert planet mass from Jupiter masses to kg\n",
        "    a_orbit = a_orbit * u.au  # Convert semi-major axis from AU to meters\n",
        "\n",
        "    # Simplified formula for K assuming circular orbit and edge-on view\n",
        "    K = (m_planet / m_star) * (G * m_star / a_orbit)**0.5\n",
        "    return K.to(u.m/u.s)\n",
        "\n",
        "# Masses and semi-major axes\n",
        "m_earth = 1 / 317.8  # Earth mass in Jupiter masses\n",
        "m_jupiter = 1  # Jupiter mass in Jupiter masses\n",
        "a_earth = 1.0  # Semi-major axis of Earth in AU\n",
        "a_jupiter = 5.2  # Semi-major axis of Jupiter in AU\n",
        "\n",
        "# Calculate radial velocity amplitudes\n",
        "K_earth = radial_velocity_amplitude(m_earth, a_earth)\n",
        "K_jupiter = radial_velocity_amplitude(m_jupiter, a_jupiter)\n",
        "\n",
        "# Show the radial velocity\n",
        "K_earth, K_jupiter\n"
      ]
    }
  ]
}